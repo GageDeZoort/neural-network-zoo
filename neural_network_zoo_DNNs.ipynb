{
  "nbformat": 4,
  "nbformat_minor": 0,
  "metadata": {
    "colab": {
      "provenance": []
    },
    "kernelspec": {
      "name": "python3",
      "display_name": "Python 3"
    },
    "language_info": {
      "name": "python"
    },
    "accelerator": "GPU",
    "gpuClass": "standard"
  },
  "cells": [
    {
      "cell_type": "markdown",
      "source": [
        "# **Deep Neural Networks**\n",
        "Gage DeZoort (3/25/24)"
      ],
      "metadata": {
        "id": "-RbxD4BGybG9"
      }
    },
    {
      "cell_type": "markdown",
      "source": [
        "# Neural Networks in PyTorch\n",
        "\n",
        "Phew, that was a lot of work. Let's train some NNs the easy way - using a modern deep learning (DL) library called PyTorch.\n"
      ],
      "metadata": {
        "id": "aPhFRtDFLscd"
      }
    },
    {
      "cell_type": "markdown",
      "source": [
        "## 1. Reading Handwritten Digits\n",
        "\n",
        "As a working example, let's take a look at the MNIST handwritten digits dataset. Each sample is an image $x_i$ and a truth label $y_i\\in[1:9]$, corresponding to the number in the image. Some of the below code is adapted from the PyTorch Docs, e.g. the [Datasets and Dataloaders](https://pytorch.org/tutorials/beginner/basics/data_tutorial.html) page."
      ],
      "metadata": {
        "id": "1sorhc1LdR8g"
      }
    },
    {
      "cell_type": "code",
      "source": [
        "# imports\n",
        "import torch\n",
        "from torch.utils.data import Dataset\n",
        "from torchvision import datasets\n",
        "from torchvision import transforms\n",
        "import matplotlib.pyplot as plt\n",
        "\n",
        "device = torch.device(\"cuda\" if torch.cuda.is_available() else \"cpu\")\n",
        "device"
      ],
      "metadata": {
        "id": "FGMgIxA6c5n4",
        "colab": {
          "base_uri": "https://localhost:8080/"
        },
        "outputId": "ba0d4904-2bd7-4753-e93f-6374e0807c85"
      },
      "execution_count": null,
      "outputs": [
        {
          "output_type": "execute_result",
          "data": {
            "text/plain": [
              "device(type='cuda')"
            ]
          },
          "metadata": {},
          "execution_count": 21
        }
      ]
    },
    {
      "cell_type": "markdown",
      "source": [
        "### 2.1.0 Data Exploration"
      ],
      "metadata": {
        "id": "fDYhsIaahaVI"
      }
    },
    {
      "cell_type": "code",
      "source": [
        "# grab the data and normalize it\n",
        "\n",
        "transform=transforms.Compose([\n",
        "    transforms.ToTensor(),\n",
        "    transforms.Normalize((0.1307,), (0.3081,))\n",
        "])\n",
        "\n",
        "train_data = datasets.MNIST(\n",
        "    root=\"data\",\n",
        "    train=True,\n",
        "    download=True,\n",
        "    transform=transform,\n",
        ")\n",
        "\n",
        "test_data = datasets.MNIST(\n",
        "    root=\"data\",\n",
        "    train=False,\n",
        "    download=True,\n",
        "    transform=transform,\n",
        ")"
      ],
      "metadata": {
        "id": "mhb0iqPDekoE",
        "colab": {
          "base_uri": "https://localhost:8080/"
        },
        "outputId": "88116909-a653-4e14-de12-57e0134753f0"
      },
      "execution_count": null,
      "outputs": [
        {
          "output_type": "stream",
          "name": "stdout",
          "text": [
            "Downloading http://yann.lecun.com/exdb/mnist/train-images-idx3-ubyte.gz\n",
            "Downloading http://yann.lecun.com/exdb/mnist/train-images-idx3-ubyte.gz to data/MNIST/raw/train-images-idx3-ubyte.gz\n"
          ]
        },
        {
          "output_type": "stream",
          "name": "stderr",
          "text": [
            "100%|██████████| 9912422/9912422 [00:00<00:00, 162358824.41it/s]"
          ]
        },
        {
          "output_type": "stream",
          "name": "stdout",
          "text": [
            "Extracting data/MNIST/raw/train-images-idx3-ubyte.gz to data/MNIST/raw\n"
          ]
        },
        {
          "output_type": "stream",
          "name": "stderr",
          "text": [
            "\n"
          ]
        },
        {
          "output_type": "stream",
          "name": "stdout",
          "text": [
            "\n",
            "Downloading http://yann.lecun.com/exdb/mnist/train-labels-idx1-ubyte.gz\n",
            "Downloading http://yann.lecun.com/exdb/mnist/train-labels-idx1-ubyte.gz to data/MNIST/raw/train-labels-idx1-ubyte.gz\n"
          ]
        },
        {
          "output_type": "stream",
          "name": "stderr",
          "text": [
            "100%|██████████| 28881/28881 [00:00<00:00, 38950383.87it/s]\n"
          ]
        },
        {
          "output_type": "stream",
          "name": "stdout",
          "text": [
            "Extracting data/MNIST/raw/train-labels-idx1-ubyte.gz to data/MNIST/raw\n",
            "\n",
            "Downloading http://yann.lecun.com/exdb/mnist/t10k-images-idx3-ubyte.gz\n",
            "Downloading http://yann.lecun.com/exdb/mnist/t10k-images-idx3-ubyte.gz to data/MNIST/raw/t10k-images-idx3-ubyte.gz\n"
          ]
        },
        {
          "output_type": "stream",
          "name": "stderr",
          "text": [
            "100%|██████████| 1648877/1648877 [00:00<00:00, 46037500.23it/s]\n"
          ]
        },
        {
          "output_type": "stream",
          "name": "stdout",
          "text": [
            "Extracting data/MNIST/raw/t10k-images-idx3-ubyte.gz to data/MNIST/raw\n",
            "\n",
            "Downloading http://yann.lecun.com/exdb/mnist/t10k-labels-idx1-ubyte.gz\n",
            "Downloading http://yann.lecun.com/exdb/mnist/t10k-labels-idx1-ubyte.gz to data/MNIST/raw/t10k-labels-idx1-ubyte.gz\n"
          ]
        },
        {
          "output_type": "stream",
          "name": "stderr",
          "text": [
            "100%|██████████| 4542/4542 [00:00<00:00, 20572925.24it/s]\n"
          ]
        },
        {
          "output_type": "stream",
          "name": "stdout",
          "text": [
            "Extracting data/MNIST/raw/t10k-labels-idx1-ubyte.gz to data/MNIST/raw\n",
            "\n"
          ]
        }
      ]
    },
    {
      "cell_type": "markdown",
      "source": [
        "Nice, we've got some data - in the following cell we'll explore it a bit."
      ],
      "metadata": {
        "id": "qmyN-gCr1xLE"
      }
    },
    {
      "cell_type": "code",
      "source": [
        "# print some dataset properties\n",
        "x0, y0 = train_data[0]\n",
        "print(f\"First image shape: {x0.shape}\")\n",
        "print(f\"First image label: {y0}\")\n",
        "print(f\"First image pixel mean: {torch.mean(x0):.3f}\")\n",
        "print(f\"First image pixel standard deviation: {torch.std(x0):.3f}\")\n",
        "\n",
        "# plot the first image\n",
        "fig = plt.figure(dpi=100, figsize=(4,4))\n",
        "plt.imshow(x0.squeeze(), cmap=\"gray\")\n",
        "plt.show()"
      ],
      "metadata": {
        "colab": {
          "base_uri": "https://localhost:8080/",
          "height": 439
        },
        "id": "fdFk-O8Afkdb",
        "outputId": "fc9277b2-3506-4627-9792-fcaa0f56d863"
      },
      "execution_count": null,
      "outputs": [
        {
          "output_type": "stream",
          "name": "stdout",
          "text": [
            "First image shape: torch.Size([1, 28, 28])\n",
            "First image label: 5\n",
            "First image pixel mean: 0.023\n",
            "First image pixel standard deviation: 1.014\n"
          ]
        },
        {
          "output_type": "display_data",
          "data": {
            "text/plain": [
              "<Figure size 400x400 with 1 Axes>"
            ],
            "image/png": "[encoded data removed]"
          },
          "metadata": {}
        }
      ]
    },
    {
      "cell_type": "markdown",
      "source": [
        "We see that each input is an image with $28\\times 28$ pixels, i.e. $x_i\\in\\mathbb{R}^{28\\times 28}$. Each of the pixels has a \"brightness\" value associated with it. This is because it represents a digtized image of a handwritten digit - each pixel's \"brightness\" corresponds to the presence of ink on the page. The truth labels just show you what number is in the image, in this case $y_0=5$. There are 60,000 train images and 10,000 test images. Let's plot a few more examples:"
      ],
      "metadata": {
        "id": "Lzwy3g-W149v"
      }
    },
    {
      "cell_type": "code",
      "source": [
        "# plot several random examples\n",
        "figure = plt.figure(figsize=(8, 8))\n",
        "cols, rows = 3, 3\n",
        "for i in range(1, cols * rows + 1):\n",
        "    sample_idx = torch.randint(len(train_data), size=(1,)).item()\n",
        "    img, label = train_data[sample_idx]\n",
        "    figure.add_subplot(rows, cols, i)\n",
        "    plt.axis(\"off\")\n",
        "    plt.imshow(img.squeeze(), cmap=\"gray\")\n",
        "plt.show()"
      ],
      "metadata": {
        "colab": {
          "base_uri": "https://localhost:8080/",
          "height": 653
        },
        "id": "JlNPeNnygLUi",
        "outputId": "7ac89cf6-d19e-4605-b91d-7bbc7e7eb4d6"
      },
      "execution_count": null,
      "outputs": [
        {
          "output_type": "display_data",
          "data": {
            "text/plain": [
              "<Figure size 800x800 with 9 Axes>"
            ],
            "image/png": "[encoded data removed]"
          },
          "metadata": {}
        }
      ]
    },
    {
      "cell_type": "markdown",
      "source": [
        "### 2.1.1 Data Preparation\n",
        "\n",
        "Now that we've taken some time to look at the data, let's use the default `MNIST DataLoaders` provided by `PyTorch`. We'll apply several transformations to the images. First, we'll ensure that they're stored as torch `tensor` objects, which you can think of as high-dimensional matrices that have gradients attached to them. Next, we'll normalize the data to have mean 0 and standard deviation 1 using the constants provided by `PyTorch`. Finally, we'll *flatten* the images into 28x28=784 dimensional arrays so that we can pass them into the NN."
      ],
      "metadata": {
        "id": "uNIqf0RHhgSx"
      }
    },
    {
      "cell_type": "code",
      "source": [
        "# imports\n",
        "from torch.utils.data import DataLoader"
      ],
      "metadata": {
        "id": "82aX3KiphETj"
      },
      "execution_count": null,
      "outputs": []
    },
    {
      "cell_type": "code",
      "source": [
        "# let's flatten and normalize the data\n",
        "transform=transforms.Compose([\n",
        "    transforms.ToTensor(),\n",
        "    transforms.Normalize((0.1307,), (0.3081,)),\n",
        "    transforms.Lambda(lambda x: torch.flatten(x))\n",
        "])\n",
        "train_data = datasets.MNIST(\n",
        "    root=\"data\",\n",
        "    train=True,\n",
        "    download=True,\n",
        "    transform=transform,\n",
        ")\n",
        "\n",
        "test_data = datasets.MNIST(\n",
        "    root=\"data\",\n",
        "    train=False,\n",
        "    download=True,\n",
        "    transform=transform,\n",
        ")"
      ],
      "metadata": {
        "id": "DBiAnYtEiegc"
      },
      "execution_count": null,
      "outputs": []
    },
    {
      "cell_type": "markdown",
      "source": [
        "Let's look at the first image in the train set and check that it is now a vector of size $784$:"
      ],
      "metadata": {
        "id": "XXEnQdEh3NO4"
      }
    },
    {
      "cell_type": "code",
      "source": [
        "# get the dimensions right - the original image was [1, 28, 28])\n",
        "x0, y0 = train_data[0]\n",
        "print(f\"Image Shape: {x0.shape}\")"
      ],
      "metadata": {
        "colab": {
          "base_uri": "https://localhost:8080/"
        },
        "id": "z_aDeM-4k1GY",
        "outputId": "b747b1d8-dbee-4b7a-ddac-44fa16becd09"
      },
      "execution_count": null,
      "outputs": [
        {
          "output_type": "stream",
          "name": "stdout",
          "text": [
            "Image Shape: torch.Size([784])\n"
          ]
        }
      ]
    },
    {
      "cell_type": "markdown",
      "source": [
        "With our datasets in hand, `PyTorch` provides `DataLoader` classes designed to sample *batches* of data. Batching allows us to make predictions on several inputs at once before computing the gradients and using them to update the model. In this case, we pull a batch size of 128 images from the train set:"
      ],
      "metadata": {
        "id": "t3wOGK0V3V0d"
      }
    },
    {
      "cell_type": "code",
      "source": [
        "# now let's build some data loaders\n",
        "train_loader = DataLoader(train_data, batch_size=128, shuffle=True)\n",
        "test_loader = DataLoader(test_data, batch_size=128, shuffle=False)"
      ],
      "metadata": {
        "id": "JQ5TzBzAk7OI"
      },
      "execution_count": null,
      "outputs": []
    },
    {
      "cell_type": "markdown",
      "source": [
        "### 2.1.2 Training an NN\n",
        "We've got our data, so now we need to build a model. We'll use the $ReLU(z)=\\mathrm{max}(0,z)$ activation function and 2 hidden layers of size $128$. To do so, we're going to use the following `PyTorch` objects belonging to the `torch.nn` class:\n",
        "\n",
        "- `Linear` creates weight and bias matrices populated with learnable parameters.\n",
        "- `ReLU` implements the ReLU activation function.\n",
        "- `Sequential` is a container for modules like `Linear` and `ReLU`. Once you have a `Sequential` object, it will apply all its modules in sequence, producing an output for you.\n",
        "\n",
        "\n",
        "We're going to use these 3 ingredients in the cells below to create the following NN architecture:\n",
        "\n",
        "\\begin{align}\n",
        "\\text{Input}:&\\qquad x_0\\in\\mathbb{R}^{784}\\\\\n",
        "\\text{1st Preactivations}:&\\qquad  z_1 = W_1x_0 + b_1\\\\\n",
        "\\text{1st Hidden Layer}:&\\qquad \\sigma_1 = \\mathrm{ReLU}(z_1)\\\\\n",
        "\\text{2nd Preactivations}:&\\qquad z_2 = W_2\\sigma_1+ b_2\\\\\n",
        "\\text{2nd Hidden Layer}:&\\qquad \\sigma_2=\\mathrm{ReLU}(z_2)\\\\\n",
        "\\text{Output}:&\\qquad W_3\\sigma_2 + b_3\\in\\mathbb{R}^{10}\n",
        "\\end{align}\n",
        "\n",
        "Our network is a function $f:\\mathbb{R}^{784}\\rightarrow\\mathbb{R}^{10}$, i.e. its outputs will correspond to the probabilities that the 784 dimensional input is each digit between 0 and 9. Note that there's no output activation function because `PyTorch` will apply it for you."
      ],
      "metadata": {
        "id": "BFN2bSnmluYF"
      }
    },
    {
      "cell_type": "code",
      "source": [
        "# imports\n",
        "import time\n",
        "from torch.nn import Sequential, Linear, ReLU, CrossEntropyLoss\n",
        "from torch.optim import SGD"
      ],
      "metadata": {
        "id": "VHPOiZNgls2c"
      },
      "execution_count": null,
      "outputs": []
    },
    {
      "cell_type": "code",
      "source": [
        "model = Sequential(\n",
        "    Linear(784, 128), # maps input_dim 784 to hidden_dim 128\n",
        "    ReLU(), # 1st hidden layer has dimension 128\n",
        "    Linear(128, 128), # maps hidden_dim 128 to hidden_dim 128\n",
        "    ReLU(),  # 2nd hidden layer has dim 128\n",
        "    Linear(128, 10) # maps hidden_dim 128 to output_dim 10\n",
        ")"
      ],
      "metadata": {
        "id": "ptyX1xbKlRcC"
      },
      "execution_count": null,
      "outputs": []
    },
    {
      "cell_type": "markdown",
      "source": [
        "We'll ooptimize a cross entropy loss since we've got another multi-class classification problem."
      ],
      "metadata": {
        "id": "9cWJaQR07AkN"
      }
    },
    {
      "cell_type": "code",
      "source": [
        "loss_fn = CrossEntropyLoss()"
      ],
      "metadata": {
        "id": "CO6vutPHpK-t"
      },
      "execution_count": null,
      "outputs": []
    },
    {
      "cell_type": "markdown",
      "source": [
        "Previously, we applied gradient descent to train our network. We're going to do something similar here by applying *stochastic gradient descent* (SGD). Here, stochastic means that instead of calculating full gradients (which is expensive), we're going to estimate the gradients by randomly selecting subsets of data. The learning rate, or `lr` below, controls the speed of learning and needs to be carefully tuned in practice. We've also introduced another hyperparameter called `momentum`. In a nutshell, momentum means that the minimization experiences inertia when performing gradient descent - if a direction is consistently favorable, the optimization will begin to build speed in that direction. This is generally a good thing to do in practice, as you can \"run past\" noisy fluctuations or flat regions of the loss landscape."
      ],
      "metadata": {
        "id": "9emNLOTu8Bhi"
      }
    },
    {
      "cell_type": "code",
      "source": [
        "optimizer = SGD(model.parameters(), lr=0.005, momentum=0.8)"
      ],
      "metadata": {
        "id": "ufHfm-aPpQgo"
      },
      "execution_count": null,
      "outputs": []
    },
    {
      "cell_type": "markdown",
      "source": [
        "Now we need to train our model. To do so, we're going to run a standard `PyTorch` train step repeatedly over all the training data. In practice, you'll usually grab a similar train function from the `PyTorch` documentation pages and then adapt it to your own needs. The train step has several key ingredients, which are heavily commented in the cell below."
      ],
      "metadata": {
        "id": "8DvcbQSt9XYc"
      }
    },
    {
      "cell_type": "code",
      "source": [
        "def train_step(model, train_loader, optimizer, loss_fn):\n",
        "  # track the total loss and the number N of images processed\n",
        "  total_loss, N = 0, 0\n",
        "\n",
        "  # set the model in train mode, which tells PyTorch to track gradients\n",
        "  model.train()\n",
        "\n",
        "  # loop over batches of images (batch_size x 784) and labels (784)\n",
        "  t0 = time.time()\n",
        "  for data in train_loader:\n",
        "\n",
        "    # unpack the data in the batch\n",
        "    (images, labels) = data\n",
        "\n",
        "    # zero out any gradients calculated during the last batch\n",
        "    optimizer.zero_grad()\n",
        "\n",
        "    # use the model to predict labels for each image\n",
        "    y_pred = model(images)\n",
        "\n",
        "    # calculate the cross entropy loss between the prediction and truth\n",
        "    loss = loss_fn(y_pred, labels)\n",
        "\n",
        "    # compute the gradients of the loss function\n",
        "    loss.backward()\n",
        "\n",
        "    # use the gradients to update the model's learnable parameters\n",
        "    optimizer.step()\n",
        "\n",
        "    # accumulate some statistics\n",
        "    total_loss += loss.item()\n",
        "    N+=len(labels)\n",
        "\n",
        "  return total_loss/N, time.time()-t0"
      ],
      "metadata": {
        "id": "b3ZLChzMnkpi"
      },
      "execution_count": null,
      "outputs": []
    },
    {
      "cell_type": "markdown",
      "source": [
        "With our train step in hand, now we just need to run a training loop over several epochs:"
      ],
      "metadata": {
        "id": "SmCmBgecAQ1O"
      }
    },
    {
      "cell_type": "code",
      "source": [
        "# training sequence\n",
        "n_epochs = 10\n",
        "for epoch in range(n_epochs):\n",
        "  epoch_loss, epoch_time = train_step(model, train_loader, optimizer, loss_fn)\n",
        "  print(f\"Epoch {epoch}: loss={epoch_loss:.4f}, time={epoch_time:.4f}\")"
      ],
      "metadata": {
        "colab": {
          "base_uri": "https://localhost:8080/"
        },
        "id": "aKfdMgCmAXT1",
        "outputId": "4170afa1-4da3-4411-a8b9-d28d883a66a6"
      },
      "execution_count": null,
      "outputs": [
        {
          "output_type": "stream",
          "name": "stdout",
          "text": [
            "Epoch 0: loss=0.0057, time=13.8593\n",
            "Epoch 1: loss=0.0022, time=14.2437\n",
            "Epoch 2: loss=0.0018, time=13.3912\n",
            "Epoch 3: loss=0.0015, time=13.4511\n",
            "Epoch 4: loss=0.0013, time=13.4039\n",
            "Epoch 5: loss=0.0012, time=13.5913\n",
            "Epoch 6: loss=0.0010, time=13.4915\n",
            "Epoch 7: loss=0.0009, time=13.7718\n",
            "Epoch 8: loss=0.0008, time=13.4092\n",
            "Epoch 9: loss=0.0008, time=13.9780\n"
          ]
        }
      ]
    },
    {
      "cell_type": "markdown",
      "source": [
        "You should notice tha the loss steadiliy decreases from epoch to epoch. Each epoch should take about 10 seconds. If this feels slow, don't worry - we'll speed it up in subsequent cells. Now that our model has been trained, it's time to evaluate its performance. Ideally, we hope that it has learned to recognize images from the train set in a general way, i.e. that it hasn't just memorized the train data (this is called overfitting). To test the model's *generalization*, we will apply it to the sample of test data, which it has so far never seen. In doing so, we need to write a new test step. This will look similar to the train step, except now we're *not* going to calculate gradients or update the model's learnable parameters. We encode this explicitly by writing `model.eval()` and `with torch.no_grad()`."
      ],
      "metadata": {
        "id": "6XZulSVUA8Mo"
      }
    },
    {
      "cell_type": "code",
      "source": [
        "def test_step(model, test_loader, loss_fn):\n",
        "  # statistics to accumulate\n",
        "  total_loss, total_correct, N = 0, 0, 0\n",
        "\n",
        "  # tell torch not to track gradients or update the model\n",
        "  model.eval()\n",
        "  with torch.no_grad():\n",
        "    # loop over all batches in the test data\n",
        "    for data in enumerate(test_loader):\n",
        "\n",
        "      # unpack the batch of data\n",
        "      idx, (images, labels) = data\n",
        "\n",
        "      # calculate the model's prediction\n",
        "      y_pred = model(images)\n",
        "\n",
        "      # compute the loss and store relevant statistics\n",
        "      loss = loss_fn(y_pred, labels)\n",
        "      total_loss += loss.item()\n",
        "      total_correct += sum(y_pred.argmax(1)==labels)\n",
        "      N+=len(labels)\n",
        "\n",
        "  return total_loss/N, total_correct/N\n",
        "\n",
        "# evaluate the model\n",
        "loss, acc = test_step(model, test_loader, loss_fn)\n",
        "print(\"Test Set Performance:\")\n",
        "print(f\"Average Loss: {loss:.3f}\")\n",
        "print(f\"Classification Accuracy: {acc:.3f}\")"
      ],
      "metadata": {
        "colab": {
          "base_uri": "https://localhost:8080/"
        },
        "id": "M3TDkLkIp7b3",
        "outputId": "e43cae26-434d-4d54-a5a6-4f9fda00c5cc"
      },
      "execution_count": null,
      "outputs": [
        {
          "output_type": "stream",
          "name": "stdout",
          "text": [
            "Test Set Performance:\n",
            "Average Loss: 0.001\n",
            "Classification Accuracy: 0.969\n"
          ]
        }
      ]
    },
    {
      "cell_type": "markdown",
      "source": [
        "Hey, 97% is pretty good considering we just treated the images as vectors, effectively disregarding any local spatial information inside of them. More complicated architectures like convolutional neural networks (CNNs) can leverage this localized information to make even better predictions on MNIST."
      ],
      "metadata": {
        "id": "E4fr2bx-CSo0"
      }
    },
    {
      "cell_type": "markdown",
      "source": [
        "## 2.2 Faster Training"
      ],
      "metadata": {
        "id": "Kryb6_EF8y5T"
      }
    },
    {
      "cell_type": "code",
      "source": [
        "from torchvision.datasets import MNIST\n",
        "\n",
        "class FastMNIST(MNIST): # build our new class on top of the old one\n",
        "    def __init__(self, *args, **kwargs):\n",
        "        super().__init__(*args, **kwargs)\n",
        "\n",
        "        # flatten, re-scale, normalize the data\n",
        "        self.data = self.data.unsqueeze(1).float().div(255)\n",
        "        self.data = self.data.sub_(0.1307).div_(0.3081)\n",
        "        self.data = self.data.view(len(self.data), 28*28)\n",
        "\n",
        "        # load all the images and labels onto the GPU in advance\n",
        "        self.data, self.targets = self.data.to(device), self.targets.to(device)\n",
        "\n",
        "    def __getitem__(self, index):\n",
        "        img, target = self.data[index], self.targets[index]\n",
        "        return (img, target)\n",
        "\n",
        "# create our new FastMNIST dataset\n",
        "train_data = FastMNIST(\"data\", train=True, download=True)\n",
        "test_data = FastMNIST(\"data\", train=False, download=True)\n",
        "\n",
        "# this works just like our last dataset except everything is now on a GPU\n",
        "train_loader = DataLoader(train_data, batch_size=128, num_workers=0, shuffle=True)\n",
        "test_loader = DataLoader(test_data, batch_size=128, num_workers=0, shuffle=False)"
      ],
      "metadata": {
        "id": "mHn5_VgYERGs",
        "colab": {
          "base_uri": "https://localhost:8080/"
        },
        "outputId": "7dd00755-6f7b-4798-eb98-0a7bd3fc9235"
      },
      "execution_count": null,
      "outputs": [
        {
          "output_type": "stream",
          "name": "stdout",
          "text": [
            "Downloading http://yann.lecun.com/exdb/mnist/train-images-idx3-ubyte.gz\n",
            "Downloading http://yann.lecun.com/exdb/mnist/train-images-idx3-ubyte.gz to data/FastMNIST/raw/train-images-idx3-ubyte.gz\n"
          ]
        },
        {
          "output_type": "stream",
          "name": "stderr",
          "text": [
            "100%|██████████| 9912422/9912422 [00:00<00:00, 148984846.43it/s]"
          ]
        },
        {
          "output_type": "stream",
          "name": "stdout",
          "text": [
            "Extracting data/FastMNIST/raw/train-images-idx3-ubyte.gz to data/FastMNIST/raw\n"
          ]
        },
        {
          "output_type": "stream",
          "name": "stderr",
          "text": [
            "\n"
          ]
        },
        {
          "output_type": "stream",
          "name": "stdout",
          "text": [
            "\n",
            "Downloading http://yann.lecun.com/exdb/mnist/train-labels-idx1-ubyte.gz\n",
            "Downloading http://yann.lecun.com/exdb/mnist/train-labels-idx1-ubyte.gz to data/FastMNIST/raw/train-labels-idx1-ubyte.gz\n"
          ]
        },
        {
          "output_type": "stream",
          "name": "stderr",
          "text": [
            "100%|██████████| 28881/28881 [00:00<00:00, 61179643.35it/s]\n"
          ]
        },
        {
          "output_type": "stream",
          "name": "stdout",
          "text": [
            "Extracting data/FastMNIST/raw/train-labels-idx1-ubyte.gz to data/FastMNIST/raw\n",
            "\n",
            "Downloading http://yann.lecun.com/exdb/mnist/t10k-images-idx3-ubyte.gz\n",
            "Downloading http://yann.lecun.com/exdb/mnist/t10k-images-idx3-ubyte.gz to data/FastMNIST/raw/t10k-images-idx3-ubyte.gz\n"
          ]
        },
        {
          "output_type": "stream",
          "name": "stderr",
          "text": [
            "100%|██████████| 1648877/1648877 [00:00<00:00, 49944330.96it/s]\n"
          ]
        },
        {
          "output_type": "stream",
          "name": "stdout",
          "text": [
            "Extracting data/FastMNIST/raw/t10k-images-idx3-ubyte.gz to data/FastMNIST/raw\n",
            "\n",
            "Downloading http://yann.lecun.com/exdb/mnist/t10k-labels-idx1-ubyte.gz\n",
            "Downloading http://yann.lecun.com/exdb/mnist/t10k-labels-idx1-ubyte.gz to data/FastMNIST/raw/t10k-labels-idx1-ubyte.gz\n"
          ]
        },
        {
          "output_type": "stream",
          "name": "stderr",
          "text": [
            "100%|██████████| 4542/4542 [00:00<00:00, 4974028.40it/s]\n"
          ]
        },
        {
          "output_type": "stream",
          "name": "stdout",
          "text": [
            "Extracting data/FastMNIST/raw/t10k-labels-idx1-ubyte.gz to data/FastMNIST/raw\n",
            "\n"
          ]
        }
      ]
    },
    {
      "cell_type": "markdown",
      "source": [
        "Let's start our training procedure over. Above, we have code for the `train_step` and `test_step`, so let's define a new model and train it again by minimizing `CrossEntropyLoss` with the `SGD` optimization algorithm. This time, you'll see that it trains *much* faster with each epoch taking around 1 second."
      ],
      "metadata": {
        "id": "y_G6unj6DRN8"
      }
    },
    {
      "cell_type": "code",
      "source": [
        "model = Sequential(\n",
        "    Linear(784, 128),\n",
        "    ReLU(), # hidden layer has dimension 32\n",
        "    Linear(128, 128),\n",
        "    ReLU(),\n",
        "    Linear(128, 10)\n",
        ").to(device)\n",
        "\n",
        "loss_fn = CrossEntropyLoss()\n",
        "optimizer = SGD(model.parameters(), lr=0.005, momentum=0.8)\n",
        "\n",
        "# training sequence\n",
        "n_epochs = 10\n",
        "for epoch in range(n_epochs):\n",
        "  epoch_loss, epoch_time = train_step(model, train_loader, optimizer, loss_fn)\n",
        "  print(f\"Epoch {epoch}: loss={epoch_loss:.4f}, time={epoch_time:.4f}\")\n",
        "\n",
        "# evaluate the model\n",
        "loss, acc = test_step(model, test_loader, loss_fn)\n",
        "print(\"Test Set Performance:\")\n",
        "print(f\"Average Loss: {loss:.3f}\")\n",
        "print(f\"Classification Accuracy: {acc:.3f}\")"
      ],
      "metadata": {
        "colab": {
          "base_uri": "https://localhost:8080/"
        },
        "id": "1JHqlvUGFxq7",
        "outputId": "79c2e779-8c67-4348-cb78-ce90a0f79a02"
      },
      "execution_count": null,
      "outputs": [
        {
          "output_type": "stream",
          "name": "stdout",
          "text": [
            "Epoch 0: loss=0.0056, time=1.4525\n",
            "Epoch 1: loss=0.0023, time=1.0214\n",
            "Epoch 2: loss=0.0018, time=1.0421\n",
            "Epoch 3: loss=0.0015, time=1.3504\n",
            "Epoch 4: loss=0.0013, time=1.1499\n",
            "Epoch 5: loss=0.0012, time=1.0096\n",
            "Epoch 6: loss=0.0010, time=1.0152\n",
            "Epoch 7: loss=0.0009, time=1.0225\n",
            "Epoch 8: loss=0.0008, time=1.0067\n",
            "Epoch 9: loss=0.0008, time=1.0165\n",
            "Test Set Performance:\n",
            "Average Loss: 0.001\n",
            "Classification Accuracy: 0.968\n"
          ]
        }
      ]
    },
    {
      "cell_type": "markdown",
      "source": [
        "**Exercise**: Now that our training is sped up, we spend a bit more time tuning our model and training scheme. So far, we've picked the hyperparameters (e.g. learning rate and momentum in the optimizer, batch size, the size of the hidden layers, the number of hidden layers) somewhat randomly. Try varying them a bit - how does the model performance change? Can you get a better classification accuracy?"
      ],
      "metadata": {
        "id": "bsPuf0_LuOtY"
      }
    }
  ]
}